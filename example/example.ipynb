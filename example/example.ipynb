{
 "cells": [
  {
   "cell_type": "markdown",
   "id": "eb45ed1a-f09d-4684-aa1a-25f99a220c9b",
   "metadata": {},
   "source": [
    "# Run the clojure REPL in a Jupyter Notebook."
   ]
  },
  {
   "cell_type": "code",
   "execution_count": 1,
   "id": "a4e58ff5-97ad-432d-a375-54090f3a515b",
   "metadata": {
    "tags": []
   },
   "outputs": [
    {
     "name": "stdout",
     "output_type": "stream",
     "text": [
      "7"
     ]
    }
   ],
   "source": [
    "(+ 3 4)"
   ]
  },
  {
   "cell_type": "code",
   "execution_count": 2,
   "id": "fcb4d446-bd1f-4528-a8b7-750f1fedf5ff",
   "metadata": {
    "tags": []
   },
   "outputs": [
    {
     "name": "stdout",
     "output_type": "stream",
     "text": [
      "17"
     ]
    }
   ],
   "source": [
    "(+ 10 *1)"
   ]
  },
  {
   "cell_type": "code",
   "execution_count": 3,
   "id": "eb334dc1-948a-4b28-923e-9ade17b7271a",
   "metadata": {
    "tags": []
   },
   "outputs": [
    {
     "name": "stdout",
     "output_type": "stream",
     "text": [
      "24"
     ]
    }
   ],
   "source": [
    "(+ *1 *2)"
   ]
  }
 ],
 "metadata": {
  "kernelspec": {
   "display_name": "Clojure",
   "language": "",
   "name": "jansclojurekernel"
  },
  "language_info": {
   "file_extension": ".clj",
   "mimetype": "application/clojure",
   "name": "clojure"
  }
 },
 "nbformat": 4,
 "nbformat_minor": 5
}
